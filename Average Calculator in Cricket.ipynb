{
 "cells": [
  {
   "metadata": {
    "ExecuteTime": {
     "end_time": "2024-04-29T19:32:50.783494Z",
     "start_time": "2024-04-29T19:32:50.776097Z"
    }
   },
   "cell_type": "code",
   "source": [
    "# Batting Average Calculation\n",
    "total_runs_scored = 635\n",
    "total_dismissals = 6  # Number of times the batsman got out\n",
    "batting_average = total_runs_scored / total_dismissals\n",
    "print(\"Batting Average:\", batting_average)\n",
    "\n",
    "# Bowling Average Calculation\n",
    "total_runs_conceded = 235\n",
    "total_wickets_taken = 21  # Number of wickets taken by the bowler\n",
    "bowling_average = total_runs_conceded / total_wickets_taken\n",
    "print(\"Bowling Average:\", bowling_average)"
   ],
   "id": "45af15a6496a6060",
   "outputs": [
    {
     "name": "stdout",
     "output_type": "stream",
     "text": [
      "Batting Average: 105.83333333333333\n",
      "Bowling Average: 11.19047619047619\n"
     ]
    }
   ],
   "execution_count": 14
  }
 ],
 "metadata": {
  "kernelspec": {
   "display_name": "Python 3 (ipykernel)",
   "language": "python",
   "name": "python3"
  },
  "language_info": {
   "codemirror_mode": {
    "name": "ipython",
    "version": 3
   },
   "file_extension": ".py",
   "mimetype": "text/x-python",
   "name": "python",
   "nbconvert_exporter": "python",
   "pygments_lexer": "ipython3",
   "version": "3.9.18"
  }
 },
 "nbformat": 4,
 "nbformat_minor": 5
}
